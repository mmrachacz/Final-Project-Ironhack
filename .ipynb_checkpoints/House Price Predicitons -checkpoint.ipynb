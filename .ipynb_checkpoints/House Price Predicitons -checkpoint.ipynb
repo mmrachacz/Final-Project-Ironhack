{
 "cells": [
  {
   "cell_type": "code",
   "execution_count": 1,
   "id": "9f6a3295",
   "metadata": {},
   "outputs": [],
   "source": [
    "import pandas as pd\n",
    "import numpy as np\n",
    "import re"
   ]
  },
  {
   "cell_type": "code",
   "execution_count": 2,
   "id": "e4a4ceb7",
   "metadata": {},
   "outputs": [],
   "source": [
    "# loading the Datasets\n",
    "data = pd.read_csv('data_clean.csv')"
   ]
  },
  {
   "cell_type": "code",
   "execution_count": 3,
   "id": "2a674b91",
   "metadata": {},
   "outputs": [
    {
     "data": {
      "text/html": [
       "<div>\n",
       "<style scoped>\n",
       "    .dataframe tbody tr th:only-of-type {\n",
       "        vertical-align: middle;\n",
       "    }\n",
       "\n",
       "    .dataframe tbody tr th {\n",
       "        vertical-align: top;\n",
       "    }\n",
       "\n",
       "    .dataframe thead th {\n",
       "        text-align: right;\n",
       "    }\n",
       "</style>\n",
       "<table border=\"1\" class=\"dataframe\">\n",
       "  <thead>\n",
       "    <tr style=\"text-align: right;\">\n",
       "      <th></th>\n",
       "      <th>description_clean</th>\n",
       "      <th>location</th>\n",
       "      <th>location_type</th>\n",
       "      <th>size_in_m²</th>\n",
       "      <th>rooms_final</th>\n",
       "      <th>land_area_in_m²</th>\n",
       "      <th>seller</th>\n",
       "      <th>offer_type</th>\n",
       "      <th>price_in_euro</th>\n",
       "    </tr>\n",
       "  </thead>\n",
       "  <tbody>\n",
       "    <tr>\n",
       "      <th>0</th>\n",
       "      <td>wohnen villenstil zweifamilienhaus nahe dresde...</td>\n",
       "      <td>Großröhrsdorf (Großröhrsdorf)</td>\n",
       "      <td>7</td>\n",
       "      <td>180</td>\n",
       "      <td>7</td>\n",
       "      <td>1266</td>\n",
       "      <td>Maklerbüro Haufe</td>\n",
       "      <td>commercial</td>\n",
       "      <td>244000</td>\n",
       "    </tr>\n",
       "    <tr>\n",
       "      <th>1</th>\n",
       "      <td>seltener glücksfall vielseitig talentierte dop...</td>\n",
       "      <td>Eulensteg 28, Markkleeberg (Markkleeberg)</td>\n",
       "      <td>7</td>\n",
       "      <td>140</td>\n",
       "      <td>5</td>\n",
       "      <td>252</td>\n",
       "      <td>WIK24 Immobilien</td>\n",
       "      <td>commercial</td>\n",
       "      <td>490000</td>\n",
       "    </tr>\n",
       "    <tr>\n",
       "      <th>2</th>\n",
       "      <td>großteils modern saniertes einfamilienhaus neu...</td>\n",
       "      <td>Neukirch/Lausitz</td>\n",
       "      <td>7</td>\n",
       "      <td>176</td>\n",
       "      <td>7</td>\n",
       "      <td>400</td>\n",
       "      <td>Maklerbüro Haufe</td>\n",
       "      <td>commercial</td>\n",
       "      <td>159000</td>\n",
       "    </tr>\n",
       "    <tr>\n",
       "      <th>3</th>\n",
       "      <td>wirklich cooles haus leben</td>\n",
       "      <td>Magdeburg (Westerhüsen)</td>\n",
       "      <td>3</td>\n",
       "      <td>156</td>\n",
       "      <td>8</td>\n",
       "      <td>313</td>\n",
       "      <td>Andreas Schmidt Immobilien</td>\n",
       "      <td>commercial</td>\n",
       "      <td>425000</td>\n",
       "    </tr>\n",
       "    <tr>\n",
       "      <th>4</th>\n",
       "      <td>individuelles einfamilienhaus bester lage zern...</td>\n",
       "      <td>Königs Wusterhausen (Zernsdorf)</td>\n",
       "      <td>6</td>\n",
       "      <td>130</td>\n",
       "      <td>6</td>\n",
       "      <td>820</td>\n",
       "      <td>Gojowczyk Grundstücksverwaltung/ Immobilien</td>\n",
       "      <td>commercial</td>\n",
       "      <td>660000</td>\n",
       "    </tr>\n",
       "    <tr>\n",
       "      <th>...</th>\n",
       "      <td>...</td>\n",
       "      <td>...</td>\n",
       "      <td>...</td>\n",
       "      <td>...</td>\n",
       "      <td>...</td>\n",
       "      <td>...</td>\n",
       "      <td>...</td>\n",
       "      <td>...</td>\n",
       "      <td>...</td>\n",
       "    </tr>\n",
       "    <tr>\n",
       "      <th>29646</th>\n",
       "      <td>wohnen arbeiten dach ideal handwerker</td>\n",
       "      <td>Wellendingen (Wilflingen)</td>\n",
       "      <td>7</td>\n",
       "      <td>124</td>\n",
       "      <td>7</td>\n",
       "      <td>450</td>\n",
       "      <td>frb Immobilien - Frank Rudolf Braun</td>\n",
       "      <td>commercial</td>\n",
       "      <td>489000</td>\n",
       "    </tr>\n",
       "    <tr>\n",
       "      <th>29647</th>\n",
       "      <td>mehrfamilienhaus crailsheim</td>\n",
       "      <td>Crailsheim (Crailsheim)</td>\n",
       "      <td>6</td>\n",
       "      <td>121</td>\n",
       "      <td>9</td>\n",
       "      <td>650</td>\n",
       "      <td>Aalbok Immobilien</td>\n",
       "      <td>commercial</td>\n",
       "      <td>44900</td>\n",
       "    </tr>\n",
       "    <tr>\n",
       "      <th>29648</th>\n",
       "      <td>ökologisch bauen beispielhäuser inspiration</td>\n",
       "      <td>St.Johann (Upfingen)</td>\n",
       "      <td>7</td>\n",
       "      <td>119</td>\n",
       "      <td>5</td>\n",
       "      <td>553</td>\n",
       "      <td>Anugraha Schloß Lindich Portfolio- Immobilien ...</td>\n",
       "      <td>commercial</td>\n",
       "      <td>292000</td>\n",
       "    </tr>\n",
       "    <tr>\n",
       "      <th>29649</th>\n",
       "      <td>zweifamilienhaus toplage lottstetten</td>\n",
       "      <td>Lottstetten (Lottstetten)</td>\n",
       "      <td>7</td>\n",
       "      <td>134</td>\n",
       "      <td>6</td>\n",
       "      <td>1150</td>\n",
       "      <td>Haus &amp;amp; Grund Hochrhein Service GmbH</td>\n",
       "      <td>commercial</td>\n",
       "      <td>69000</td>\n",
       "    </tr>\n",
       "    <tr>\n",
       "      <th>29650</th>\n",
       "      <td>haus indiduell gestaltbar hanglage keller</td>\n",
       "      <td>Baiersbronn (Huzenbach)</td>\n",
       "      <td>7</td>\n",
       "      <td>180</td>\n",
       "      <td>5</td>\n",
       "      <td>510</td>\n",
       "      <td>STECO-Haus GmbH</td>\n",
       "      <td>commercial</td>\n",
       "      <td>109900</td>\n",
       "    </tr>\n",
       "  </tbody>\n",
       "</table>\n",
       "<p>29651 rows × 9 columns</p>\n",
       "</div>"
      ],
      "text/plain": [
       "                                       description_clean  \\\n",
       "0      wohnen villenstil zweifamilienhaus nahe dresde...   \n",
       "1      seltener glücksfall vielseitig talentierte dop...   \n",
       "2      großteils modern saniertes einfamilienhaus neu...   \n",
       "3                             wirklich cooles haus leben   \n",
       "4      individuelles einfamilienhaus bester lage zern...   \n",
       "...                                                  ...   \n",
       "29646              wohnen arbeiten dach ideal handwerker   \n",
       "29647                        mehrfamilienhaus crailsheim   \n",
       "29648        ökologisch bauen beispielhäuser inspiration   \n",
       "29649               zweifamilienhaus toplage lottstetten   \n",
       "29650          haus indiduell gestaltbar hanglage keller   \n",
       "\n",
       "                                        location  location_type  size_in_m²  \\\n",
       "0                  Großröhrsdorf (Großröhrsdorf)              7         180   \n",
       "1      Eulensteg 28, Markkleeberg (Markkleeberg)              7         140   \n",
       "2                               Neukirch/Lausitz              7         176   \n",
       "3                        Magdeburg (Westerhüsen)              3         156   \n",
       "4                Königs Wusterhausen (Zernsdorf)              6         130   \n",
       "...                                          ...            ...         ...   \n",
       "29646                  Wellendingen (Wilflingen)              7         124   \n",
       "29647                    Crailsheim (Crailsheim)              6         121   \n",
       "29648                       St.Johann (Upfingen)              7         119   \n",
       "29649                  Lottstetten (Lottstetten)              7         134   \n",
       "29650                    Baiersbronn (Huzenbach)              7         180   \n",
       "\n",
       "       rooms_final  land_area_in_m²  \\\n",
       "0                7             1266   \n",
       "1                5              252   \n",
       "2                7              400   \n",
       "3                8              313   \n",
       "4                6              820   \n",
       "...            ...              ...   \n",
       "29646            7              450   \n",
       "29647            9              650   \n",
       "29648            5              553   \n",
       "29649            6             1150   \n",
       "29650            5              510   \n",
       "\n",
       "                                                  seller  offer_type  \\\n",
       "0                                       Maklerbüro Haufe  commercial   \n",
       "1                                       WIK24 Immobilien  commercial   \n",
       "2                                       Maklerbüro Haufe  commercial   \n",
       "3                             Andreas Schmidt Immobilien  commercial   \n",
       "4            Gojowczyk Grundstücksverwaltung/ Immobilien  commercial   \n",
       "...                                                  ...         ...   \n",
       "29646                frb Immobilien - Frank Rudolf Braun  commercial   \n",
       "29647                                  Aalbok Immobilien  commercial   \n",
       "29648  Anugraha Schloß Lindich Portfolio- Immobilien ...  commercial   \n",
       "29649            Haus &amp; Grund Hochrhein Service GmbH  commercial   \n",
       "29650                                    STECO-Haus GmbH  commercial   \n",
       "\n",
       "       price_in_euro  \n",
       "0             244000  \n",
       "1             490000  \n",
       "2             159000  \n",
       "3             425000  \n",
       "4             660000  \n",
       "...              ...  \n",
       "29646         489000  \n",
       "29647          44900  \n",
       "29648         292000  \n",
       "29649          69000  \n",
       "29650         109900  \n",
       "\n",
       "[29651 rows x 9 columns]"
      ]
     },
     "execution_count": 3,
     "metadata": {},
     "output_type": "execute_result"
    }
   ],
   "source": [
    "data"
   ]
  },
  {
   "cell_type": "markdown",
   "id": "156eb4eb",
   "metadata": {},
   "source": [
    "# Prediction:"
   ]
  },
  {
   "cell_type": "code",
   "execution_count": 4,
   "id": "a8085455",
   "metadata": {},
   "outputs": [
    {
     "name": "stdout",
     "output_type": "stream",
     "text": [
      "0.001869374127670742\n",
      "0.002902415687035975\n",
      "204214.29910039392\n",
      "41703479957.065155\n"
     ]
    }
   ],
   "source": [
    "from sklearn import linear_model\n",
    "from sklearn.preprocessing import MinMaxScaler\n",
    "from sklearn.preprocessing import OneHotEncoder\n",
    "from sklearn.model_selection import train_test_split\n",
    "from sklearn.metrics import mean_absolute_error, r2_score, mean_squared_error\n",
    "\n",
    "# X,y Split \n",
    "y = data['price_in_euro']\n",
    "X = data.drop(['price_in_euro', 'location', 'seller', 'description_clean'], axis=1).reset_index(drop=True)\n",
    "\n",
    "# Train-Test-Split \n",
    "X_train, X_test, y_train, y_test = train_test_split(X, y, test_size=0.2)\n",
    "\n",
    "# Num- Cat Split \n",
    "X_train_num = X_train[['size_in_m²', 'rooms_final', 'land_area_in_m²']].reset_index(drop=True)\n",
    "X_test_num = X_test[['size_in_m²', 'rooms_final', 'land_area_in_m²']].reset_index(drop=True)\n",
    "X_train_cat = X_train[['location_type', 'offer_type']]\n",
    "X_test_cat = X_test[['location_type', 'offer_type']]\n",
    "\n",
    "# Scaling \n",
    "MinMaxtransformer = MinMaxScaler().fit(X_train_num)\n",
    "X_train_num_normalized = pd.DataFrame(MinMaxtransformer.transform(X_train_num),columns=X_train_num.columns).reset_index(drop=True)\n",
    "X_test_num_normalized = pd.DataFrame(MinMaxtransformer.transform(X_test_num),columns=X_train_num.columns).reset_index(drop=True)\n",
    "\n",
    "# OnehotEncoding \n",
    "encoder = OneHotEncoder(drop='first').fit(X_train_cat) \n",
    "cols = encoder.get_feature_names_out(input_features=X_train_cat.columns)\n",
    "X_train_cat_encode = pd.DataFrame(encoder.transform(X_train_cat).toarray(),columns=cols)\n",
    "X_test_cat_encode = pd.DataFrame(encoder.transform(X_test_cat).toarray(),columns=cols)\n",
    "\n",
    "# reconcatenating\n",
    "X_train_new = pd.concat([X_train_num_normalized, X_train_cat_encode], axis = 1)\n",
    "X_test_new = pd.concat([X_test_num_normalized, X_test_cat_encode], axis = 1)\n",
    "\n",
    "# first prediction to see whats what...\n",
    "lm = linear_model.LinearRegression()\n",
    "lm.fit(X_train_new,y_train)\n",
    "\n",
    "\n",
    "predictions = lm.predict(X_train_new)\n",
    "print(r2_score(y_train, predictions))\n",
    "predictions_test = lm.predict(X_test_new)\n",
    "print(r2_score(y_test, predictions_test))\n",
    "mse=mean_squared_error(y_test,predictions_test)\n",
    "rmse = np.sqrt(mean_squared_error(y_test,predictions_test))\n",
    "print(rmse)\n",
    "print(mse)"
   ]
  },
  {
   "cell_type": "markdown",
   "id": "8b526dd9",
   "metadata": {},
   "source": [
    "# Trying different models:"
   ]
  },
  {
   "cell_type": "code",
   "execution_count": 5,
   "id": "1836e5f6",
   "metadata": {},
   "outputs": [],
   "source": [
    "# importing models\n",
    "from sklearn.linear_model import ElasticNet\n",
    "from sklearn.linear_model import SGDRegressor\n",
    "from sklearn.svm import SVR\n",
    "from sklearn.linear_model import BayesianRidge\n",
    "from sklearn.kernel_ridge import KernelRidge\n",
    "from lightgbm import LGBMRegressor\n",
    "from sklearn.ensemble import GradientBoostingRegressor\n",
    "from sklearn.neighbors import KNeighborsRegressor\n",
    "from sklearn.tree import DecisionTreeRegressor\n",
    "\n",
    "# importing evaluation tools for the models\n",
    "from sklearn.metrics import mean_squared_error\n",
    "from sklearn.metrics import r2_score, mean_absolute_error\n",
    "# creating a list of models\n",
    "modellist = [GradientBoostingRegressor(),\n",
    "             KernelRidge(),\n",
    "             BayesianRidge(),\n",
    "             SVR(),\n",
    "             DecisionTreeRegressor(),\n",
    "             ElasticNet(),\n",
    "             SGDRegressor(),\n",
    "             LGBMRegressor(),\n",
    "             KNeighborsRegressor(n_neighbors  = 3),\n",
    "             KNeighborsRegressor(n_neighbors  = 5),\n",
    "             KNeighborsRegressor(n_neighbors  = 10)]"
   ]
  },
  {
   "cell_type": "code",
   "execution_count": 6,
   "id": "b04a686a",
   "metadata": {},
   "outputs": [],
   "source": [
    "# defining a function\n",
    "def model_test(modellist):\n",
    "    for model in modellist:\n",
    "        model.fit(X_train_new,y_train)\n",
    "        \n",
    "        # Training Data\n",
    "        # R2-Score\n",
    "        predictions = model.predict(X_train_new)\n",
    "        r2score = round(r2_score(y_train, predictions), 2)\n",
    "        # Mean Square Error\n",
    "        mse= round(mean_squared_error(y_train,predictions))\n",
    "        # Root Mean Square Error\n",
    "        rmse = round(np.sqrt(mse), 2)\n",
    "        # Mean Absolute Error\n",
    "        mae = round(mean_absolute_error(y_train, predictions), 2)\n",
    "        \n",
    "        # Test Data\n",
    "        # R2-Score\n",
    "        predictions = model.predict(X_test_new)\n",
    "        r2scoret = round(r2_score(y_test, predictions), 2)\n",
    "        # Mean Square Error\n",
    "        mset= round(mean_squared_error(y_test,predictions), 2)\n",
    "        # Root Mean Square Error\n",
    "        rmset = round(np.sqrt(mset), 2)\n",
    "        # Mean Absolute Error\n",
    "        maet = round(mean_absolute_error(y_test, predictions), 2)\n",
    "        \n",
    "        \n",
    "        display(model)\n",
    "        display(pd.DataFrame({'ValType': ['Train', 'Test'], 'R2-Score': [r2score, r2scoret], 'MSE': [mse, mset] , 'RMSE': [rmse, rmset], 'MAE': [mae, maet]})) "
   ]
  },
  {
   "cell_type": "code",
   "execution_count": 7,
   "id": "6d4770cb",
   "metadata": {},
   "outputs": [],
   "source": [
    "# model_test(modellist)"
   ]
  },
  {
   "cell_type": "markdown",
   "id": "89f6a7e7",
   "metadata": {},
   "source": [
    "#### KNNRegressor gives best results:"
   ]
  },
  {
   "cell_type": "code",
   "execution_count": 8,
   "id": "9e322632",
   "metadata": {},
   "outputs": [
    {
     "name": "stdout",
     "output_type": "stream",
     "text": [
      "0.058627696010653096\n",
      "-0.044169284812592746\n",
      "208979.06081288838\n",
      "43672247858.23689\n"
     ]
    }
   ],
   "source": [
    "neigh = KNeighborsRegressor(n_neighbors=19)\n",
    "neigh.fit(X_train_new, y_train)\n",
    "\n",
    "predictions = neigh.predict(X_train_new)\n",
    "print(r2_score(y_train, predictions))\n",
    "predictions_test = neigh.predict(X_test_new)\n",
    "print(r2_score(y_test, predictions_test))\n",
    "mse=mean_squared_error(y_test,predictions_test)\n",
    "rmse = np.sqrt(mean_squared_error(y_test,predictions_test))\n",
    "print(rmse)\n",
    "print(mse)"
   ]
  },
  {
   "cell_type": "markdown",
   "id": "bd2a6edd",
   "metadata": {},
   "source": [
    "## Hyperparameter Search for KNN"
   ]
  },
  {
   "cell_type": "code",
   "execution_count": 9,
   "id": "c9472bcf",
   "metadata": {},
   "outputs": [],
   "source": [
    "from sklearn.model_selection import GridSearchCV\n",
    "\n",
    "# defining a grid\n",
    "n_neighbors_choices = [3,10,15,20]\n",
    "weights_choices = ['uniform', 'distance']\n",
    "algorithm_choices = ['auto', 'ball_tree', 'kd_tree', 'brute']\n",
    "p_choices = [1,2]    "
   ]
  },
  {
   "cell_type": "code",
   "execution_count": 10,
   "id": "d95cc575",
   "metadata": {},
   "outputs": [
    {
     "data": {
      "text/plain": [
       "{'n_neighbors': [3, 10, 15, 20],\n",
       " 'weights': ['uniform', 'distance'],\n",
       " 'algorithm': ['auto', 'ball_tree', 'kd_tree', 'brute'],\n",
       " 'p': [1, 2]}"
      ]
     },
     "execution_count": 10,
     "metadata": {},
     "output_type": "execute_result"
    }
   ],
   "source": [
    "grid = {'n_neighbors': n_neighbors_choices,\n",
    "        'weights': weights_choices,\n",
    "        'algorithm': algorithm_choices,\n",
    "        'p': p_choices}\n",
    "grid"
   ]
  },
  {
   "cell_type": "code",
   "execution_count": 11,
   "id": "9dd64d4f",
   "metadata": {},
   "outputs": [
    {
     "data": {
      "text/plain": [
       "GridSearchCV(cv=5, estimator=KNeighborsRegressor(),\n",
       "             param_grid={'algorithm': ['auto', 'ball_tree', 'kd_tree', 'brute'],\n",
       "                         'n_neighbors': [3, 10, 15, 20], 'p': [1, 2],\n",
       "                         'weights': ['uniform', 'distance']})"
      ]
     },
     "execution_count": 11,
     "metadata": {},
     "output_type": "execute_result"
    }
   ],
   "source": [
    "# trying the grid\n",
    "model = KNeighborsRegressor()\n",
    "grid_search = GridSearchCV(estimator = model, param_grid = grid, cv = 5)\n",
    "grid_search.fit(X_train_new, y_train)"
   ]
  },
  {
   "cell_type": "code",
   "execution_count": 12,
   "id": "30fa6589",
   "metadata": {},
   "outputs": [
    {
     "data": {
      "text/plain": [
       "{'algorithm': 'ball_tree', 'n_neighbors': 20, 'p': 1, 'weights': 'uniform'}"
      ]
     },
     "execution_count": 12,
     "metadata": {},
     "output_type": "execute_result"
    }
   ],
   "source": [
    "grid_search.best_params_"
   ]
  },
  {
   "cell_type": "code",
   "execution_count": 13,
   "id": "279f60f8",
   "metadata": {},
   "outputs": [
    {
     "data": {
      "text/plain": [
       "-0.044728005858160905"
      ]
     },
     "execution_count": 13,
     "metadata": {},
     "output_type": "execute_result"
    }
   ],
   "source": [
    "grid_search.best_score_"
   ]
  },
  {
   "cell_type": "code",
   "execution_count": 14,
   "id": "018286e2",
   "metadata": {},
   "outputs": [
    {
     "name": "stdout",
     "output_type": "stream",
     "text": [
      "0.05719597577510738\n",
      "-0.03911664148178984\n",
      "208472.83202369686\n",
      "43460921691.98053\n"
     ]
    }
   ],
   "source": [
    "# applying the results\n",
    "neigh = KNeighborsRegressor(algorithm= 'brute', n_neighbors=20, p=1) #weight = distance leads to massive overtraining\n",
    "neigh.fit(X_train_new, y_train)\n",
    "\n",
    "predictions = neigh.predict(X_train_new)\n",
    "print(r2_score(y_train, predictions))\n",
    "predictions_test = neigh.predict(X_test_new)\n",
    "print(r2_score(y_test, predictions_test))\n",
    "mse=mean_squared_error(y_test,predictions_test)\n",
    "rmse = np.sqrt(mean_squared_error(y_test,predictions_test))\n",
    "print(rmse)\n",
    "print(mse)"
   ]
  },
  {
   "cell_type": "code",
   "execution_count": null,
   "id": "621d3364",
   "metadata": {},
   "outputs": [],
   "source": []
  },
  {
   "cell_type": "markdown",
   "id": "8f94d33b",
   "metadata": {},
   "source": [
    "#### concatenating predictions with original dataframe:"
   ]
  },
  {
   "cell_type": "code",
   "execution_count": 15,
   "id": "f141e052",
   "metadata": {},
   "outputs": [
    {
     "data": {
      "text/html": [
       "<div>\n",
       "<style scoped>\n",
       "    .dataframe tbody tr th:only-of-type {\n",
       "        vertical-align: middle;\n",
       "    }\n",
       "\n",
       "    .dataframe tbody tr th {\n",
       "        vertical-align: top;\n",
       "    }\n",
       "\n",
       "    .dataframe thead th {\n",
       "        text-align: right;\n",
       "    }\n",
       "</style>\n",
       "<table border=\"1\" class=\"dataframe\">\n",
       "  <thead>\n",
       "    <tr style=\"text-align: right;\">\n",
       "      <th></th>\n",
       "      <th>0</th>\n",
       "    </tr>\n",
       "  </thead>\n",
       "  <tbody>\n",
       "    <tr>\n",
       "      <th>29195</th>\n",
       "      <td>407986.45</td>\n",
       "    </tr>\n",
       "    <tr>\n",
       "      <th>22825</th>\n",
       "      <td>272936.55</td>\n",
       "    </tr>\n",
       "    <tr>\n",
       "      <th>1272</th>\n",
       "      <td>313694.95</td>\n",
       "    </tr>\n",
       "    <tr>\n",
       "      <th>18837</th>\n",
       "      <td>305353.95</td>\n",
       "    </tr>\n",
       "    <tr>\n",
       "      <th>13627</th>\n",
       "      <td>362814.00</td>\n",
       "    </tr>\n",
       "    <tr>\n",
       "      <th>...</th>\n",
       "      <td>...</td>\n",
       "    </tr>\n",
       "    <tr>\n",
       "      <th>29139</th>\n",
       "      <td>333220.00</td>\n",
       "    </tr>\n",
       "    <tr>\n",
       "      <th>5961</th>\n",
       "      <td>403005.10</td>\n",
       "    </tr>\n",
       "    <tr>\n",
       "      <th>9257</th>\n",
       "      <td>428600.50</td>\n",
       "    </tr>\n",
       "    <tr>\n",
       "      <th>13856</th>\n",
       "      <td>419742.45</td>\n",
       "    </tr>\n",
       "    <tr>\n",
       "      <th>28664</th>\n",
       "      <td>389888.55</td>\n",
       "    </tr>\n",
       "  </tbody>\n",
       "</table>\n",
       "<p>23720 rows × 1 columns</p>\n",
       "</div>"
      ],
      "text/plain": [
       "               0\n",
       "29195  407986.45\n",
       "22825  272936.55\n",
       "1272   313694.95\n",
       "18837  305353.95\n",
       "13627  362814.00\n",
       "...          ...\n",
       "29139  333220.00\n",
       "5961   403005.10\n",
       "9257   428600.50\n",
       "13856  419742.45\n",
       "28664  389888.55\n",
       "\n",
       "[23720 rows x 1 columns]"
      ]
     },
     "metadata": {},
     "output_type": "display_data"
    },
    {
     "data": {
      "text/html": [
       "<div>\n",
       "<style scoped>\n",
       "    .dataframe tbody tr th:only-of-type {\n",
       "        vertical-align: middle;\n",
       "    }\n",
       "\n",
       "    .dataframe tbody tr th {\n",
       "        vertical-align: top;\n",
       "    }\n",
       "\n",
       "    .dataframe thead th {\n",
       "        text-align: right;\n",
       "    }\n",
       "</style>\n",
       "<table border=\"1\" class=\"dataframe\">\n",
       "  <thead>\n",
       "    <tr style=\"text-align: right;\">\n",
       "      <th></th>\n",
       "      <th>0</th>\n",
       "    </tr>\n",
       "  </thead>\n",
       "  <tbody>\n",
       "    <tr>\n",
       "      <th>11028</th>\n",
       "      <td>488019.30</td>\n",
       "    </tr>\n",
       "    <tr>\n",
       "      <th>25500</th>\n",
       "      <td>312272.50</td>\n",
       "    </tr>\n",
       "    <tr>\n",
       "      <th>10510</th>\n",
       "      <td>377019.95</td>\n",
       "    </tr>\n",
       "    <tr>\n",
       "      <th>28601</th>\n",
       "      <td>361092.50</td>\n",
       "    </tr>\n",
       "    <tr>\n",
       "      <th>15565</th>\n",
       "      <td>279288.00</td>\n",
       "    </tr>\n",
       "    <tr>\n",
       "      <th>...</th>\n",
       "      <td>...</td>\n",
       "    </tr>\n",
       "    <tr>\n",
       "      <th>17934</th>\n",
       "      <td>349732.45</td>\n",
       "    </tr>\n",
       "    <tr>\n",
       "      <th>11057</th>\n",
       "      <td>351785.50</td>\n",
       "    </tr>\n",
       "    <tr>\n",
       "      <th>19662</th>\n",
       "      <td>274571.90</td>\n",
       "    </tr>\n",
       "    <tr>\n",
       "      <th>26112</th>\n",
       "      <td>273810.10</td>\n",
       "    </tr>\n",
       "    <tr>\n",
       "      <th>20533</th>\n",
       "      <td>371658.45</td>\n",
       "    </tr>\n",
       "  </tbody>\n",
       "</table>\n",
       "<p>5931 rows × 1 columns</p>\n",
       "</div>"
      ],
      "text/plain": [
       "               0\n",
       "11028  488019.30\n",
       "25500  312272.50\n",
       "10510  377019.95\n",
       "28601  361092.50\n",
       "15565  279288.00\n",
       "...          ...\n",
       "17934  349732.45\n",
       "11057  351785.50\n",
       "19662  274571.90\n",
       "26112  273810.10\n",
       "20533  371658.45\n",
       "\n",
       "[5931 rows x 1 columns]"
      ]
     },
     "metadata": {},
     "output_type": "display_data"
    }
   ],
   "source": [
    "predictions_df = pd.DataFrame(predictions, index = y_train.index.copy())\n",
    "predictions_test_df = pd.DataFrame(predictions_test, index = y_test.index.copy())\n",
    "display(predictions_df)\n",
    "display(predictions_test_df)"
   ]
  },
  {
   "cell_type": "code",
   "execution_count": 16,
   "id": "f76d735e",
   "metadata": {},
   "outputs": [
    {
     "data": {
      "text/html": [
       "<div>\n",
       "<style scoped>\n",
       "    .dataframe tbody tr th:only-of-type {\n",
       "        vertical-align: middle;\n",
       "    }\n",
       "\n",
       "    .dataframe tbody tr th {\n",
       "        vertical-align: top;\n",
       "    }\n",
       "\n",
       "    .dataframe thead th {\n",
       "        text-align: right;\n",
       "    }\n",
       "</style>\n",
       "<table border=\"1\" class=\"dataframe\">\n",
       "  <thead>\n",
       "    <tr style=\"text-align: right;\">\n",
       "      <th></th>\n",
       "      <th>price_predicted</th>\n",
       "    </tr>\n",
       "  </thead>\n",
       "  <tbody>\n",
       "    <tr>\n",
       "      <th>29195</th>\n",
       "      <td>407986</td>\n",
       "    </tr>\n",
       "    <tr>\n",
       "      <th>22825</th>\n",
       "      <td>272936</td>\n",
       "    </tr>\n",
       "    <tr>\n",
       "      <th>1272</th>\n",
       "      <td>313694</td>\n",
       "    </tr>\n",
       "    <tr>\n",
       "      <th>18837</th>\n",
       "      <td>305353</td>\n",
       "    </tr>\n",
       "    <tr>\n",
       "      <th>13627</th>\n",
       "      <td>362814</td>\n",
       "    </tr>\n",
       "    <tr>\n",
       "      <th>...</th>\n",
       "      <td>...</td>\n",
       "    </tr>\n",
       "    <tr>\n",
       "      <th>17934</th>\n",
       "      <td>349732</td>\n",
       "    </tr>\n",
       "    <tr>\n",
       "      <th>11057</th>\n",
       "      <td>351785</td>\n",
       "    </tr>\n",
       "    <tr>\n",
       "      <th>19662</th>\n",
       "      <td>274571</td>\n",
       "    </tr>\n",
       "    <tr>\n",
       "      <th>26112</th>\n",
       "      <td>273810</td>\n",
       "    </tr>\n",
       "    <tr>\n",
       "      <th>20533</th>\n",
       "      <td>371658</td>\n",
       "    </tr>\n",
       "  </tbody>\n",
       "</table>\n",
       "<p>29651 rows × 1 columns</p>\n",
       "</div>"
      ],
      "text/plain": [
       "       price_predicted\n",
       "29195           407986\n",
       "22825           272936\n",
       "1272            313694\n",
       "18837           305353\n",
       "13627           362814\n",
       "...                ...\n",
       "17934           349732\n",
       "11057           351785\n",
       "19662           274571\n",
       "26112           273810\n",
       "20533           371658\n",
       "\n",
       "[29651 rows x 1 columns]"
      ]
     },
     "execution_count": 16,
     "metadata": {},
     "output_type": "execute_result"
    }
   ],
   "source": [
    "all_predictions = pd.concat([predictions_df, predictions_test_df], axis = 0)\n",
    "all_predictions[\"price_predicted\"] = pd.concat([predictions_df, predictions_test_df], axis = 0)\n",
    "all_predictions = all_predictions.drop(all_predictions.columns[0],axis=1)\n",
    "all_predictions['price_predicted'] = all_predictions['price_predicted'].astype(int)\n",
    "all_predictions"
   ]
  },
  {
   "cell_type": "code",
   "execution_count": 17,
   "id": "733d5670",
   "metadata": {},
   "outputs": [
    {
     "data": {
      "text/html": [
       "<div>\n",
       "<style scoped>\n",
       "    .dataframe tbody tr th:only-of-type {\n",
       "        vertical-align: middle;\n",
       "    }\n",
       "\n",
       "    .dataframe tbody tr th {\n",
       "        vertical-align: top;\n",
       "    }\n",
       "\n",
       "    .dataframe thead th {\n",
       "        text-align: right;\n",
       "    }\n",
       "</style>\n",
       "<table border=\"1\" class=\"dataframe\">\n",
       "  <thead>\n",
       "    <tr style=\"text-align: right;\">\n",
       "      <th></th>\n",
       "      <th>description_clean</th>\n",
       "      <th>location</th>\n",
       "      <th>location_type</th>\n",
       "      <th>size_in_m²</th>\n",
       "      <th>rooms_final</th>\n",
       "      <th>land_area_in_m²</th>\n",
       "      <th>seller</th>\n",
       "      <th>offer_type</th>\n",
       "      <th>price_in_euro</th>\n",
       "      <th>price_predicted</th>\n",
       "    </tr>\n",
       "  </thead>\n",
       "  <tbody>\n",
       "    <tr>\n",
       "      <th>0</th>\n",
       "      <td>wohnen villenstil zweifamilienhaus nahe dresde...</td>\n",
       "      <td>Großröhrsdorf (Großröhrsdorf)</td>\n",
       "      <td>7</td>\n",
       "      <td>180</td>\n",
       "      <td>7</td>\n",
       "      <td>1266</td>\n",
       "      <td>Maklerbüro Haufe</td>\n",
       "      <td>commercial</td>\n",
       "      <td>244000</td>\n",
       "      <td>295932</td>\n",
       "    </tr>\n",
       "    <tr>\n",
       "      <th>1</th>\n",
       "      <td>seltener glücksfall vielseitig talentierte dop...</td>\n",
       "      <td>Eulensteg 28, Markkleeberg (Markkleeberg)</td>\n",
       "      <td>7</td>\n",
       "      <td>140</td>\n",
       "      <td>5</td>\n",
       "      <td>252</td>\n",
       "      <td>WIK24 Immobilien</td>\n",
       "      <td>commercial</td>\n",
       "      <td>490000</td>\n",
       "      <td>393065</td>\n",
       "    </tr>\n",
       "    <tr>\n",
       "      <th>2</th>\n",
       "      <td>großteils modern saniertes einfamilienhaus neu...</td>\n",
       "      <td>Neukirch/Lausitz</td>\n",
       "      <td>7</td>\n",
       "      <td>176</td>\n",
       "      <td>7</td>\n",
       "      <td>400</td>\n",
       "      <td>Maklerbüro Haufe</td>\n",
       "      <td>commercial</td>\n",
       "      <td>159000</td>\n",
       "      <td>317472</td>\n",
       "    </tr>\n",
       "    <tr>\n",
       "      <th>3</th>\n",
       "      <td>wirklich cooles haus leben</td>\n",
       "      <td>Magdeburg (Westerhüsen)</td>\n",
       "      <td>3</td>\n",
       "      <td>156</td>\n",
       "      <td>8</td>\n",
       "      <td>313</td>\n",
       "      <td>Andreas Schmidt Immobilien</td>\n",
       "      <td>commercial</td>\n",
       "      <td>425000</td>\n",
       "      <td>424592</td>\n",
       "    </tr>\n",
       "    <tr>\n",
       "      <th>4</th>\n",
       "      <td>individuelles einfamilienhaus bester lage zern...</td>\n",
       "      <td>Königs Wusterhausen (Zernsdorf)</td>\n",
       "      <td>6</td>\n",
       "      <td>130</td>\n",
       "      <td>6</td>\n",
       "      <td>820</td>\n",
       "      <td>Gojowczyk Grundstücksverwaltung/ Immobilien</td>\n",
       "      <td>commercial</td>\n",
       "      <td>660000</td>\n",
       "      <td>264110</td>\n",
       "    </tr>\n",
       "    <tr>\n",
       "      <th>...</th>\n",
       "      <td>...</td>\n",
       "      <td>...</td>\n",
       "      <td>...</td>\n",
       "      <td>...</td>\n",
       "      <td>...</td>\n",
       "      <td>...</td>\n",
       "      <td>...</td>\n",
       "      <td>...</td>\n",
       "      <td>...</td>\n",
       "      <td>...</td>\n",
       "    </tr>\n",
       "    <tr>\n",
       "      <th>29646</th>\n",
       "      <td>wohnen arbeiten dach ideal handwerker</td>\n",
       "      <td>Wellendingen (Wilflingen)</td>\n",
       "      <td>7</td>\n",
       "      <td>124</td>\n",
       "      <td>7</td>\n",
       "      <td>450</td>\n",
       "      <td>frb Immobilien - Frank Rudolf Braun</td>\n",
       "      <td>commercial</td>\n",
       "      <td>489000</td>\n",
       "      <td>339020</td>\n",
       "    </tr>\n",
       "    <tr>\n",
       "      <th>29647</th>\n",
       "      <td>mehrfamilienhaus crailsheim</td>\n",
       "      <td>Crailsheim (Crailsheim)</td>\n",
       "      <td>6</td>\n",
       "      <td>121</td>\n",
       "      <td>9</td>\n",
       "      <td>650</td>\n",
       "      <td>Aalbok Immobilien</td>\n",
       "      <td>commercial</td>\n",
       "      <td>44900</td>\n",
       "      <td>281657</td>\n",
       "    </tr>\n",
       "    <tr>\n",
       "      <th>29648</th>\n",
       "      <td>ökologisch bauen beispielhäuser inspiration</td>\n",
       "      <td>St.Johann (Upfingen)</td>\n",
       "      <td>7</td>\n",
       "      <td>119</td>\n",
       "      <td>5</td>\n",
       "      <td>553</td>\n",
       "      <td>Anugraha Schloß Lindich Portfolio- Immobilien ...</td>\n",
       "      <td>commercial</td>\n",
       "      <td>292000</td>\n",
       "      <td>386310</td>\n",
       "    </tr>\n",
       "    <tr>\n",
       "      <th>29649</th>\n",
       "      <td>zweifamilienhaus toplage lottstetten</td>\n",
       "      <td>Lottstetten (Lottstetten)</td>\n",
       "      <td>7</td>\n",
       "      <td>134</td>\n",
       "      <td>6</td>\n",
       "      <td>1150</td>\n",
       "      <td>Haus &amp;amp; Grund Hochrhein Service GmbH</td>\n",
       "      <td>commercial</td>\n",
       "      <td>69000</td>\n",
       "      <td>302187</td>\n",
       "    </tr>\n",
       "    <tr>\n",
       "      <th>29650</th>\n",
       "      <td>haus indiduell gestaltbar hanglage keller</td>\n",
       "      <td>Baiersbronn (Huzenbach)</td>\n",
       "      <td>7</td>\n",
       "      <td>180</td>\n",
       "      <td>5</td>\n",
       "      <td>510</td>\n",
       "      <td>STECO-Haus GmbH</td>\n",
       "      <td>commercial</td>\n",
       "      <td>109900</td>\n",
       "      <td>366691</td>\n",
       "    </tr>\n",
       "  </tbody>\n",
       "</table>\n",
       "<p>29651 rows × 10 columns</p>\n",
       "</div>"
      ],
      "text/plain": [
       "                                       description_clean  \\\n",
       "0      wohnen villenstil zweifamilienhaus nahe dresde...   \n",
       "1      seltener glücksfall vielseitig talentierte dop...   \n",
       "2      großteils modern saniertes einfamilienhaus neu...   \n",
       "3                             wirklich cooles haus leben   \n",
       "4      individuelles einfamilienhaus bester lage zern...   \n",
       "...                                                  ...   \n",
       "29646              wohnen arbeiten dach ideal handwerker   \n",
       "29647                        mehrfamilienhaus crailsheim   \n",
       "29648        ökologisch bauen beispielhäuser inspiration   \n",
       "29649               zweifamilienhaus toplage lottstetten   \n",
       "29650          haus indiduell gestaltbar hanglage keller   \n",
       "\n",
       "                                        location  location_type  size_in_m²  \\\n",
       "0                  Großröhrsdorf (Großröhrsdorf)              7         180   \n",
       "1      Eulensteg 28, Markkleeberg (Markkleeberg)              7         140   \n",
       "2                               Neukirch/Lausitz              7         176   \n",
       "3                        Magdeburg (Westerhüsen)              3         156   \n",
       "4                Königs Wusterhausen (Zernsdorf)              6         130   \n",
       "...                                          ...            ...         ...   \n",
       "29646                  Wellendingen (Wilflingen)              7         124   \n",
       "29647                    Crailsheim (Crailsheim)              6         121   \n",
       "29648                       St.Johann (Upfingen)              7         119   \n",
       "29649                  Lottstetten (Lottstetten)              7         134   \n",
       "29650                    Baiersbronn (Huzenbach)              7         180   \n",
       "\n",
       "       rooms_final  land_area_in_m²  \\\n",
       "0                7             1266   \n",
       "1                5              252   \n",
       "2                7              400   \n",
       "3                8              313   \n",
       "4                6              820   \n",
       "...            ...              ...   \n",
       "29646            7              450   \n",
       "29647            9              650   \n",
       "29648            5              553   \n",
       "29649            6             1150   \n",
       "29650            5              510   \n",
       "\n",
       "                                                  seller  offer_type  \\\n",
       "0                                       Maklerbüro Haufe  commercial   \n",
       "1                                       WIK24 Immobilien  commercial   \n",
       "2                                       Maklerbüro Haufe  commercial   \n",
       "3                             Andreas Schmidt Immobilien  commercial   \n",
       "4            Gojowczyk Grundstücksverwaltung/ Immobilien  commercial   \n",
       "...                                                  ...         ...   \n",
       "29646                frb Immobilien - Frank Rudolf Braun  commercial   \n",
       "29647                                  Aalbok Immobilien  commercial   \n",
       "29648  Anugraha Schloß Lindich Portfolio- Immobilien ...  commercial   \n",
       "29649            Haus &amp; Grund Hochrhein Service GmbH  commercial   \n",
       "29650                                    STECO-Haus GmbH  commercial   \n",
       "\n",
       "       price_in_euro  price_predicted  \n",
       "0             244000           295932  \n",
       "1             490000           393065  \n",
       "2             159000           317472  \n",
       "3             425000           424592  \n",
       "4             660000           264110  \n",
       "...              ...              ...  \n",
       "29646         489000           339020  \n",
       "29647          44900           281657  \n",
       "29648         292000           386310  \n",
       "29649          69000           302187  \n",
       "29650         109900           366691  \n",
       "\n",
       "[29651 rows x 10 columns]"
      ]
     },
     "metadata": {},
     "output_type": "display_data"
    }
   ],
   "source": [
    "data_with_pred = pd.merge(data, all_predictions, left_index=True, right_index=True)\n",
    "\n",
    "display(data_with_pred)"
   ]
  },
  {
   "cell_type": "markdown",
   "id": "f9d6d054",
   "metadata": {},
   "source": [
    "#### For predicting the prices, the most important result from the models is not the r2 score. Instead, it is important to minimize the rmse. That is because it would be insane to expect the model to predict the exact prices of houses. but what would be alright to expect is, that the predictions give an indication, as to how much a house would probably cost. And for that, the lower the rmse, the better, because low rmse will result in prediction, that are not exactly, but close to the real price of a given house..."
   ]
  },
  {
   "cell_type": "markdown",
   "id": "b5c59a12",
   "metadata": {},
   "source": [
    "# tweaking the model:\n",
    "#### - in my first try, the rmse was about 700 000\n",
    "#### - hyperparameter tuning got that down to round about 650 000\n",
    "#### - outlier- removal reduced the rmse to 215 000 (wow!)"
   ]
  },
  {
   "cell_type": "markdown",
   "id": "c850d03e",
   "metadata": {},
   "source": [
    "# trying pca"
   ]
  },
  {
   "cell_type": "code",
   "execution_count": 18,
   "id": "d67c369c",
   "metadata": {},
   "outputs": [],
   "source": [
    "from sklearn.decomposition import PCA"
   ]
  },
  {
   "cell_type": "code",
   "execution_count": 19,
   "id": "aa500414",
   "metadata": {},
   "outputs": [
    {
     "data": {
      "text/plain": [
       "PCA()"
      ]
     },
     "execution_count": 19,
     "metadata": {},
     "output_type": "execute_result"
    }
   ],
   "source": [
    "pca = PCA()\n",
    "pca.fit(X_train_new)"
   ]
  },
  {
   "cell_type": "code",
   "execution_count": 22,
   "id": "0bbf79c1",
   "metadata": {},
   "outputs": [
    {
     "data": {
      "text/plain": [
       "array([0.57, 0.16, 0.09, 0.06, 0.05, 0.03, 0.02, 0.01, 0.  , 0.  ])"
      ]
     },
     "execution_count": 22,
     "metadata": {},
     "output_type": "execute_result"
    }
   ],
   "source": [
    "pca.explained_variance_ratio_.round(2)"
   ]
  },
  {
   "cell_type": "code",
   "execution_count": 23,
   "id": "1f96d7c7",
   "metadata": {},
   "outputs": [
    {
     "data": {
      "image/png": "[encoded data removed]",
      "text/plain": [
       "<Figure size 640x480 with 1 Axes>"
      ]
     },
     "metadata": {},
     "output_type": "display_data"
    }
   ],
   "source": [
    "import matplotlib.pyplot as plt\n",
    "import seaborn as sns\n",
    "\n",
    "exp_var_pca = pca.explained_variance_ratio_\n",
    "\n",
    "# Cumulative sum of eigenvalues; This will be used to create step plot\n",
    "# for visualizing the variance explained by each principal component.\n",
    "\n",
    "cum_sum_eigenvalues = np.cumsum(exp_var_pca)\n",
    "#cum_sum_eigenvalues\n",
    "\n",
    "# Create the visualization plot\n",
    "plt.bar(range(0,len(exp_var_pca)), exp_var_pca, \n",
    "        alpha=0.5, align='center', label='Individual explained variance')\n",
    "plt.step(range(0,len(cum_sum_eigenvalues)), cum_sum_eigenvalues, \n",
    "         where='mid',label='Cumulative explained variance')\n",
    "plt.ylabel('Explained variance ratio')\n",
    "plt.xlabel('Principal component index')\n",
    "plt.legend(loc='best')\n",
    "plt.tight_layout()\n",
    "plt.show()"
   ]
  },
  {
   "cell_type": "code",
   "execution_count": 24,
   "id": "82ec8f74",
   "metadata": {},
   "outputs": [
    {
     "data": {
      "text/plain": [
       "PCA(n_components=5)"
      ]
     },
     "execution_count": 24,
     "metadata": {},
     "output_type": "execute_result"
    }
   ],
   "source": [
    "pca = PCA(5)\n",
    "pca.fit(X_train_new)"
   ]
  },
  {
   "cell_type": "code",
   "execution_count": 25,
   "id": "1af6c51d",
   "metadata": {},
   "outputs": [],
   "source": [
    "X_train_pca = pca.transform(X_train_new)\n",
    "X_test_pca = pca.transform(X_test_new)"
   ]
  },
  {
   "cell_type": "code",
   "execution_count": 26,
   "id": "d5d99c1e",
   "metadata": {},
   "outputs": [
    {
     "name": "stdout",
     "output_type": "stream",
     "text": [
      "0.05769825709183041\n",
      "-0.03835279711409889\n",
      "208396.19477863473\n",
      "43428973998.21466\n"
     ]
    }
   ],
   "source": [
    "neigh = KNeighborsRegressor(algorithm= 'brute', n_neighbors=20, p=1) #weight = distance leads to massive overtraining\n",
    "neigh.fit(X_train_pca, y_train)\n",
    "\n",
    "predictions = neigh.predict(X_train_pca)\n",
    "print(r2_score(y_train, predictions))\n",
    "predictions_test = neigh.predict(X_test_pca)\n",
    "print(r2_score(y_test, predictions_test))\n",
    "mse=mean_squared_error(y_test,predictions_test)\n",
    "rmse = np.sqrt(mean_squared_error(y_test,predictions_test))\n",
    "print(rmse)\n",
    "print(mse)"
   ]
  },
  {
   "cell_type": "markdown",
   "id": "196bec9c",
   "metadata": {},
   "source": [
    "#### PCA give slighlty worse rmse results than  before, so i am not applying it..."
   ]
  },
  {
   "cell_type": "markdown",
   "id": "cfcc1415",
   "metadata": {},
   "source": [
    "#### maybe new parameters will make PCA better?"
   ]
  },
  {
   "cell_type": "code",
   "execution_count": 27,
   "id": "bc21ac78",
   "metadata": {},
   "outputs": [
    {
     "data": {
      "text/plain": [
       "GridSearchCV(cv=5, estimator=KNeighborsRegressor(),\n",
       "             param_grid={'algorithm': ['auto', 'ball_tree', 'kd_tree', 'brute'],\n",
       "                         'n_neighbors': [3, 10, 15, 20], 'p': [1, 2],\n",
       "                         'weights': ['uniform', 'distance']})"
      ]
     },
     "execution_count": 27,
     "metadata": {},
     "output_type": "execute_result"
    }
   ],
   "source": [
    "model = KNeighborsRegressor()\n",
    "grid_search = GridSearchCV(estimator = model, param_grid = grid, cv = 5)\n",
    "grid_search.fit(X_train_pca, y_train)"
   ]
  },
  {
   "cell_type": "code",
   "execution_count": 28,
   "id": "73630117",
   "metadata": {},
   "outputs": [
    {
     "data": {
      "text/plain": [
       "{'algorithm': 'brute', 'n_neighbors': 20, 'p': 2, 'weights': 'uniform'}"
      ]
     },
     "execution_count": 28,
     "metadata": {},
     "output_type": "execute_result"
    }
   ],
   "source": [
    "grid_search.best_params_"
   ]
  },
  {
   "cell_type": "code",
   "execution_count": 29,
   "id": "47620cf9",
   "metadata": {},
   "outputs": [
    {
     "name": "stdout",
     "output_type": "stream",
     "text": [
      "0.05763222946660973\n",
      "-0.0382460716188564\n",
      "208385.4846622407\n",
      "43424510217.916954\n"
     ]
    }
   ],
   "source": [
    "neigh = KNeighborsRegressor(algorithm= 'auto', n_neighbors=20, p=1, weights= 'uniform') \n",
    "neigh.fit(X_train_pca, y_train)\n",
    "\n",
    "predictions = neigh.predict(X_train_pca)\n",
    "print(r2_score(y_train, predictions))\n",
    "predictions_test = neigh.predict(X_test_pca)\n",
    "print(r2_score(y_test, predictions_test))\n",
    "mse=mean_squared_error(y_test,predictions_test)\n",
    "rmse = np.sqrt(mean_squared_error(y_test,predictions_test))\n",
    "print(rmse)\n",
    "print(mse)"
   ]
  },
  {
   "cell_type": "markdown",
   "id": "8a8b4431",
   "metadata": {},
   "source": [
    "#### ...Nope, not better."
   ]
  },
  {
   "cell_type": "code",
   "execution_count": 33,
   "id": "b63b302a",
   "metadata": {},
   "outputs": [],
   "source": [
    "data_with_pred.to_csv('House Price Predicitons.csv', index = True)"
   ]
  },
  {
   "cell_type": "code",
   "execution_count": null,
   "id": "a49c82e0",
   "metadata": {},
   "outputs": [],
   "source": []
  }
 ],
 "metadata": {
  "kernelspec": {
   "display_name": "Python 3 (ipykernel)",
   "language": "python",
   "name": "python3"
  },
  "language_info": {
   "codemirror_mode": {
    "name": "ipython",
    "version": 3
   },
   "file_extension": ".py",
   "mimetype": "text/x-python",
   "name": "python",
   "nbconvert_exporter": "python",
   "pygments_lexer": "ipython3",
   "version": "3.9.13"
  }
 },
 "nbformat": 4,
 "nbformat_minor": 5
}
