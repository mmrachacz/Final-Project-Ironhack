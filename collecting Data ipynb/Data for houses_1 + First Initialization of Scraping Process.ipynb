{
 "cells": [
  {
   "cell_type": "code",
   "execution_count": 60,
   "id": "80a21a33",
   "metadata": {},
   "outputs": [],
   "source": [
    "from bs4 import BeautifulSoup\n",
    "import requests\n",
    "import pandas as pd\n",
    "from time import sleep\n",
    "import time\n",
    "from random import randint\n",
    "import re\n",
    "import operator\n",
    "from functools import reduce"
   ]
  },
  {
   "cell_type": "markdown",
   "id": "f32cc292",
   "metadata": {},
   "source": [
    "# Initializing connection:"
   ]
  },
  {
   "cell_type": "code",
   "execution_count": 460,
   "id": "f3ef24cd",
   "metadata": {},
   "outputs": [],
   "source": [
    "# url = \"https://www.immowelt.de/liste/bl-sachsen/haeuser/kaufen/einfamilienhaus?d=true&est=BUNGALOW&est=END_TERRACE_HOUSE&est=MID_TERRACE_HOUSE&est=SEMI_DETACHED_HOUSE&est=DUPLEX&est=FARMHOUSE&est=MANOR&est=VILLA&est=CASTLE&est=FINCA&est=RUSTICO&est=TWO_FAMILY_HOUSE&lids=121731&lids=53&lids=113861&lids=7266&lids=7755&lids=125250&lids=5372&lids=5148&lids=5141&lids=114146&lids=4898&lids=7366&lids=113869&lids=125197&lids=7414&lids=113918&pami=1&sd=DESC&sf=RELEVANCE&sp=1\""
   ]
  },
  {
   "cell_type": "code",
   "execution_count": 461,
   "id": "889a607b",
   "metadata": {},
   "outputs": [
    {
     "data": {
      "text/plain": [
       "200"
      ]
     },
     "execution_count": 461,
     "metadata": {},
     "output_type": "execute_result"
    }
   ],
   "source": [
    "# response = requests.get(url)\n",
    "# response.status_code"
   ]
  },
  {
   "cell_type": "markdown",
   "id": "bf5610a7",
   "metadata": {},
   "source": [
    "# Getting all Pages:\n",
    "### and pickling the results."
   ]
  },
  {
   "cell_type": "code",
   "execution_count": 462,
   "id": "1134cea7",
   "metadata": {},
   "outputs": [],
   "source": [
    "# iterations = range(1, 470)\n",
    "# # [i for i in iterations]"
   ]
  },
  {
   "cell_type": "code",
   "execution_count": 465,
   "id": "d7187a27",
   "metadata": {},
   "outputs": [],
   "source": [
    "# %%time\n",
    "# pages = []\n",
    "\n",
    "# for i in iterations:\n",
    "#     # assemble the url:\n",
    "#     start_at= str(i)\n",
    "#     url = \"https://www.immowelt.de/liste/bl-sachsen/haeuser/kaufen/einfamilienhaus?d=true&est=BUNGALOW&est=END_TERRACE_HOUSE&est=MID_TERRACE_HOUSE&est=SEMI_DETACHED_HOUSE&est=DUPLEX&est=FARMHOUSE&est=MANOR&est=VILLA&est=CASTLE&est=FINCA&est=RUSTICO&est=TWO_FAMILY_HOUSE&lids=121731&lids=53&lids=113861&lids=7266&lids=7755&lids=125250&lids=5372&lids=5148&lids=5141&lids=114146&lids=4898&lids=7366&lids=113869&lids=125197&lids=7414&lids=113918&pami=1&sd=DESC&sf=RELEVANCE&sp=\"+ start_at\n",
    "\n",
    "#     # download html with a get request:\n",
    "#     response = requests.get(url)\n",
    "#     #response = requests.get(url, headers = {\"Accept-Language\": \"en-US\"})\n",
    "\n",
    "#     # monitor the process by printing the status code\n",
    "#     print(\"Status code: \" + str(response.status_code))\n",
    "\n",
    "#     # store response into \"pages\" list\n",
    "#     pages.append(response)\n",
    "\n",
    "#     # respectful nap:\n",
    "#     wait_time = randint(1,2)\n",
    "#     print(\"I will sleep for \" + str(wait_time) + \" second/s.\")\n",
    "#     sleep(wait_time)"
   ]
  },
  {
   "cell_type": "code",
   "execution_count": 464,
   "id": "020639cd",
   "metadata": {},
   "outputs": [],
   "source": [
    "# import pickle\n",
    "# pickle.dump(pages, open('second', 'wb'))"
   ]
  },
  {
   "cell_type": "markdown",
   "id": "5afcc591",
   "metadata": {},
   "source": [
    "# Getting all selectors ready:\n",
    "### working on just 1 page for now."
   ]
  },
  {
   "cell_type": "code",
   "execution_count": 488,
   "id": "d279f38f",
   "metadata": {},
   "outputs": [],
   "source": [
    "# soup = BeautifulSoup(pages[0].content, \"html.parser\")"
   ]
  },
  {
   "cell_type": "code",
   "execution_count": 487,
   "id": "fb9e1a92",
   "metadata": {
    "scrolled": true
   },
   "outputs": [],
   "source": [
    "# print(soup.prettify())"
   ]
  },
  {
   "cell_type": "code",
   "execution_count": 486,
   "id": "16ce3d24",
   "metadata": {
    "scrolled": true
   },
   "outputs": [],
   "source": [
    "# #location:\n",
    "# soup.select('div.FactsSection-52a7d > div.FactsMain-bb891 > div:nth-child(2) > div.estateFacts-f11b0 > div:nth-child(1) > span')\n",
    "# # text:\n",
    "# soup.select('div.FactsSection-52a7d > div.FactsMain-bb891 > div:nth-child(2) > div.estateFacts-f11b0 > div:nth-child(3) > span')\n",
    "# # land\n",
    "# soup.select('div.FactsSection-52a7d > div.FactsMain-bb891 > div:nth-child(2) > div.estateFacts-f11b0 > div:nth-child(2) > span')"
   ]
  },
  {
   "cell_type": "code",
   "execution_count": 444,
   "id": "96b47988",
   "metadata": {},
   "outputs": [],
   "source": [
    "# soup.select('div.SearchList-22b2e div div span') # Provider, Location, Land Area, characteristics\n",
    "# descript = soup.select('div:nth-child(1) h2') # Offerdescription\n",
    "# price_area_rooms = soup.select('div:nth-child(1) div.FactsSection-52a7d div.FactsMain-bb891 div.KeyFacts-efbce div') # price, area, rooms"
   ]
  },
  {
   "cell_type": "code",
   "execution_count": 485,
   "id": "2b9cbcaa",
   "metadata": {},
   "outputs": [],
   "source": [
    "# soup.select('div.SearchList-22b2e div.estateFacts-f11b0 div.IconFact-e8a23 span') # location, land area, characteristics\n",
    "# provider = soup.select('div.SearchList-22b2e div.ProviderName-b71b2') # provider"
   ]
  },
  {
   "cell_type": "code",
   "execution_count": 307,
   "id": "c90d37ff",
   "metadata": {},
   "outputs": [],
   "source": [
    "# soup.select('div:nth-child(1) h2')[0].get_text() # first offer description in list"
   ]
  },
  {
   "cell_type": "code",
   "execution_count": 309,
   "id": "f74e0e5a",
   "metadata": {},
   "outputs": [],
   "source": [
    "# # getting rid of everything but the value itself\n",
    "# price_area_rooms2 = [re.sub('<div data-test=|\"price\">|\"area\">|\"rooms\">|</div>', '', str(w)) for w in price_area_rooms]\n",
    "# offer2 = [re.sub('<span class=\"sd-icon-21db4\">diamond</span>|<span>|</span>', '', str(w)) for w in offer]\n",
    "# descript2 = [re.sub('<h2>|</h2>', '', str(w)) for w in descript]\n",
    "# provider2 = [re.sub('<div class=\"ProviderName-b71b2 providerName-779ca\"><span>|</span></div>', '', str(w)) for w in provider]"
   ]
  },
  {
   "cell_type": "code",
   "execution_count": 310,
   "id": "04d99a47",
   "metadata": {},
   "outputs": [],
   "source": [
    "# print(price_area_rooms2)\n",
    "# print(offer2)\n",
    "# print(descript2)\n",
    "# print(provider2)"
   ]
  },
  {
   "cell_type": "code",
   "execution_count": 311,
   "id": "cb1bcb81",
   "metadata": {},
   "outputs": [],
   "source": [
    "# # deviding up the list into three lists by iterating 1-2-3, 1-2-3, 1-2-3 ...\n",
    "# price = price_area_rooms2[::3]\n",
    "# area = price_area_rooms2[1::3]\n",
    "# rooms = price_area_rooms2[2::3]"
   ]
  },
  {
   "cell_type": "code",
   "execution_count": 312,
   "id": "b16b44ee",
   "metadata": {},
   "outputs": [],
   "source": [
    "# print(price)\n",
    "# print(area)\n",
    "# print(rooms)"
   ]
  },
  {
   "cell_type": "code",
   "execution_count": 313,
   "id": "61907f23",
   "metadata": {},
   "outputs": [],
   "source": [
    "# # same as two cells up\n",
    "# location = offer2[::3]\n",
    "# land_area = offer2[1::3]\n",
    "# charac = offer2[2::3]"
   ]
  },
  {
   "cell_type": "code",
   "execution_count": 314,
   "id": "a21d6fb6",
   "metadata": {},
   "outputs": [],
   "source": [
    "# print(location)\n",
    "# print(land_area)\n",
    "# print(charac)"
   ]
  },
  {
   "cell_type": "code",
   "execution_count": 315,
   "id": "aa046dbb",
   "metadata": {},
   "outputs": [],
   "source": [
    "# print(descript2)"
   ]
  },
  {
   "cell_type": "code",
   "execution_count": 316,
   "id": "f620f97d",
   "metadata": {},
   "outputs": [],
   "source": [
    "# print(provider2)"
   ]
  },
  {
   "cell_type": "markdown",
   "id": "0898a545",
   "metadata": {},
   "source": [
    "# Applying selectors to all Pages:\n",
    "## appending results to lists, flatten and clean those lists.\n",
    "### unpickling beforehand."
   ]
  },
  {
   "cell_type": "code",
   "execution_count": 337,
   "id": "3ab9fcba",
   "metadata": {},
   "outputs": [],
   "source": [
    "pages = pickle.load(open('second','rb'))"
   ]
  },
  {
   "cell_type": "code",
   "execution_count": 469,
   "id": "c6009f9e",
   "metadata": {},
   "outputs": [],
   "source": [
    "descript1 = []\n",
    "price_area_rooms1 = []\n",
    "loc = []\n",
    "land = []\n",
    "text = []\n",
    "provider1 = []\n",
    "\n",
    "for i in range(len(pages)):\n",
    "    parsed = BeautifulSoup(pages[i].content, \"html.parser\")\n",
    "    house_info = parsed.select(\"div.SearchList-22b2e\")\n",
    "    \n",
    "    for j in range(len(house_info)):\n",
    "        \n",
    "        descript1.append(house_info[j].select('div:nth-child(1) h2')) # Offerdescription\n",
    "        price_area_rooms1.append(house_info[j].select('div:nth-child(1) div.FactsSection-52a7d div.FactsMain-bb891 div.KeyFacts-efbce div')) # price, area, rooms\n",
    "        provider1.append(house_info[j].select('div.SearchList-22b2e div.ProviderName-b71b2')) # provider\n",
    "        loc.append(house_info[j].select('div.FactsSection-52a7d > div.FactsMain-bb891 > div:nth-child(2) > div.estateFacts-f11b0 > div:nth-child(1) > span'))\n",
    "        land.append(house_info[j].select('div.FactsSection-52a7d > div.FactsMain-bb891 > div:nth-child(2) > div.estateFacts-f11b0 > div:nth-child(2) > span'))"
   ]
  },
  {
   "cell_type": "code",
   "execution_count": 470,
   "id": "32eaa1d4",
   "metadata": {},
   "outputs": [],
   "source": [
    "# flattening the list of lists\n",
    "price_area_rooms_flat = reduce(operator.add, price_area_rooms1)\n",
    "descript_flat = reduce(operator.add, descript1)\n",
    "provider_flat = reduce(operator.add, provider1)\n",
    "loc_flat = reduce(operator.add, loc)\n",
    "land_flat = reduce(operator.add, land)"
   ]
  },
  {
   "cell_type": "code",
   "execution_count": 477,
   "id": "dad5d6f1",
   "metadata": {},
   "outputs": [],
   "source": [
    "# cleaning the values\n",
    "price_area_rooms_flat_clean = [re.sub('<div data-test=|\"price\">|\"area\">|\"rooms\">|</div>', '', str(w)) for w in price_area_rooms_flat]\n",
    "descript_flat_clean = [re.sub('<h2>|</h2>', '', str(w)) for w in descript_flat]\n",
    "provider_flat_clean = [re.sub('<div class=\"ProviderName-b71b2 providerName-779ca\"><span>|</span></div>', '', str(w)) for w in provider_flat]\n",
    "loc_flat_clean = [re.sub('<span>|</span>', '', str(w)) for w in loc_flat]\n",
    "land_flat_clean = [re.sub('<span>|</span>', '', str(w)) for w in land_flat]"
   ]
  },
  {
   "cell_type": "code",
   "execution_count": 479,
   "id": "c5955f39",
   "metadata": {},
   "outputs": [],
   "source": [
    "# seperating values into corresponding lists (not needed for descript and provider)\n",
    "price = price_area_rooms_flat_clean[::3]\n",
    "area = price_area_rooms_flat_clean[1::3]\n",
    "rooms = price_area_rooms_flat_clean[2::3]"
   ]
  },
  {
   "cell_type": "markdown",
   "id": "08929cca",
   "metadata": {},
   "source": [
    "# Concatenating lists into a DataFrame:\n",
    "### checking results first."
   ]
  },
  {
   "cell_type": "code",
   "execution_count": 480,
   "id": "ccd98b6e",
   "metadata": {},
   "outputs": [
    {
     "name": "stdout",
     "output_type": "stream",
     "text": [
      "9380\n",
      "9380\n",
      "9380\n",
      "9380\n",
      "9380\n",
      "9380\n",
      "9380\n"
     ]
    }
   ],
   "source": [
    "print(len(price))\n",
    "print(len(area))\n",
    "print(len(rooms))\n",
    "print(len(loc_flat_clean))\n",
    "print(len(land_flat_clean))\n",
    "print(len(descript_flat_clean))\n",
    "print(len(provider_flat_clean))"
   ]
  },
  {
   "cell_type": "code",
   "execution_count": 481,
   "id": "2e95a8c5",
   "metadata": {},
   "outputs": [
    {
     "data": {
      "text/html": [
       "<div>\n",
       "<style scoped>\n",
       "    .dataframe tbody tr th:only-of-type {\n",
       "        vertical-align: middle;\n",
       "    }\n",
       "\n",
       "    .dataframe tbody tr th {\n",
       "        vertical-align: top;\n",
       "    }\n",
       "\n",
       "    .dataframe thead th {\n",
       "        text-align: right;\n",
       "    }\n",
       "</style>\n",
       "<table border=\"1\" class=\"dataframe\">\n",
       "  <thead>\n",
       "    <tr style=\"text-align: right;\">\n",
       "      <th></th>\n",
       "      <th>location</th>\n",
       "      <th>size</th>\n",
       "      <th>rooms</th>\n",
       "      <th>land_area</th>\n",
       "      <th>description</th>\n",
       "      <th>seller</th>\n",
       "      <th>price</th>\n",
       "    </tr>\n",
       "  </thead>\n",
       "  <tbody>\n",
       "    <tr>\n",
       "      <th>0</th>\n",
       "      <td>Großröhrsdorf (Großröhrsdorf)</td>\n",
       "      <td>180 m²</td>\n",
       "      <td></td>\n",
       "      <td>1266 m² Grundstück</td>\n",
       "      <td>wohnen im Villenstil, Zweifamilienhaus nahe Dr...</td>\n",
       "      <td>Maklerbüro Haufe</td>\n",
       "      <td>244.000 €</td>\n",
       "    </tr>\n",
       "    <tr>\n",
       "      <th>1</th>\n",
       "      <td>Eulensteg 28, Markkleeberg (Markkleeberg)</td>\n",
       "      <td>140 m²</td>\n",
       "      <td>5 Zi.</td>\n",
       "      <td>252 m² Grundstück</td>\n",
       "      <td>SELTENER GLÜCKSFALL! Vielseitig Talentierte Do...</td>\n",
       "      <td>WIK24 Immobilien</td>\n",
       "      <td>490.000 €</td>\n",
       "    </tr>\n",
       "    <tr>\n",
       "      <th>2</th>\n",
       "      <td>Neukirch/Lausitz</td>\n",
       "      <td>176 m²</td>\n",
       "      <td>7 Zi.</td>\n",
       "      <td>400 m² Grundstück</td>\n",
       "      <td>großteils modern saniertes Einfamilienhaus in ...</td>\n",
       "      <td>Maklerbüro Haufe</td>\n",
       "      <td>159.000 €</td>\n",
       "    </tr>\n",
       "    <tr>\n",
       "      <th>3</th>\n",
       "      <td>Magdeburg (Westerhüsen)</td>\n",
       "      <td>156.23 m²</td>\n",
       "      <td>8 Zi.</td>\n",
       "      <td>313 m² Grundstück</td>\n",
       "      <td>Ein wirklich cooles Haus zum Leben!</td>\n",
       "      <td>Andreas Schmidt Immobilien</td>\n",
       "      <td>425.000 €</td>\n",
       "    </tr>\n",
       "    <tr>\n",
       "      <th>4</th>\n",
       "      <td>Königs Wusterhausen (Zernsdorf)</td>\n",
       "      <td>130 m²</td>\n",
       "      <td>6 Zi.</td>\n",
       "      <td>820 m² Grundstück</td>\n",
       "      <td>Individuelles Einfamilienhaus in bester Lage v...</td>\n",
       "      <td>Gojowczyk Grundstücksverwaltung/ Immobilien</td>\n",
       "      <td>660.000 €</td>\n",
       "    </tr>\n",
       "    <tr>\n",
       "      <th>...</th>\n",
       "      <td>...</td>\n",
       "      <td>...</td>\n",
       "      <td>...</td>\n",
       "      <td>...</td>\n",
       "      <td>...</td>\n",
       "      <td>...</td>\n",
       "      <td>...</td>\n",
       "    </tr>\n",
       "    <tr>\n",
       "      <th>9375</th>\n",
       "      <td>Friedland (Friedland)</td>\n",
       "      <td>100 m²</td>\n",
       "      <td>4 Zi.</td>\n",
       "      <td>637 m² Grundstück</td>\n",
       "      <td>Einfamilienhaus (BVH) \"Am Brink\" in 17098 Frie...</td>\n",
       "      <td>Linde-Immobilien</td>\n",
       "      <td>209.999 €</td>\n",
       "    </tr>\n",
       "    <tr>\n",
       "      <th>9376</th>\n",
       "      <td>Borna (Neukirchen)</td>\n",
       "      <td>184 m²</td>\n",
       "      <td>5 Zi.</td>\n",
       "      <td>1074 m² Grundstück</td>\n",
       "      <td>einzigartiges lichtdurchflutetes Traumhaus der...</td>\n",
       "      <td>Massa Haus Vertriebspartner</td>\n",
       "      <td>419.000 €</td>\n",
       "    </tr>\n",
       "    <tr>\n",
       "      <th>9377</th>\n",
       "      <td>Walsleben</td>\n",
       "      <td>150 m²</td>\n",
       "      <td>7 Zi.</td>\n",
       "      <td>1420 m² Grundstück</td>\n",
       "      <td>Wohnhaus mit separaten Bungalow ,Doppelgarage ...</td>\n",
       "      <td>Ruppiner-Immobilien</td>\n",
       "      <td>250.000 €</td>\n",
       "    </tr>\n",
       "    <tr>\n",
       "      <th>9378</th>\n",
       "      <td>Kremmen (Flatow)</td>\n",
       "      <td>130 m²</td>\n",
       "      <td>4 Zi.</td>\n",
       "      <td>589 m² Grundstück</td>\n",
       "      <td>Super Wohnhaus für die ganze Familie , saniert...</td>\n",
       "      <td>Ruppiner-Immobilien</td>\n",
       "      <td>349.900 €</td>\n",
       "    </tr>\n",
       "    <tr>\n",
       "      <th>9379</th>\n",
       "      <td>Fritz Reuter Str. 17, Fürstenwalde/Spree (Fürs...</td>\n",
       "      <td>160 m²</td>\n",
       "      <td>5 Zi.</td>\n",
       "      <td>816 m² Grundstück</td>\n",
       "      <td>Reserviert - Haus in ruhiger Stadtrandlage von...</td>\n",
       "      <td>Knaute-Immobilien Inh.Susann Gutschke</td>\n",
       "      <td>265.000 €</td>\n",
       "    </tr>\n",
       "  </tbody>\n",
       "</table>\n",
       "<p>9380 rows × 7 columns</p>\n",
       "</div>"
      ],
      "text/plain": [
       "                                               location       size  rooms  \\\n",
       "0                         Großröhrsdorf (Großröhrsdorf)     180 m²          \n",
       "1             Eulensteg 28, Markkleeberg (Markkleeberg)     140 m²  5 Zi.   \n",
       "2                                      Neukirch/Lausitz     176 m²  7 Zi.   \n",
       "3                               Magdeburg (Westerhüsen)  156.23 m²  8 Zi.   \n",
       "4                       Königs Wusterhausen (Zernsdorf)     130 m²  6 Zi.   \n",
       "...                                                 ...        ...    ...   \n",
       "9375                              Friedland (Friedland)     100 m²  4 Zi.   \n",
       "9376                                 Borna (Neukirchen)     184 m²  5 Zi.   \n",
       "9377                                          Walsleben     150 m²  7 Zi.   \n",
       "9378                                   Kremmen (Flatow)     130 m²  4 Zi.   \n",
       "9379  Fritz Reuter Str. 17, Fürstenwalde/Spree (Fürs...     160 m²  5 Zi.   \n",
       "\n",
       "               land_area                                        description  \\\n",
       "0     1266 m² Grundstück  wohnen im Villenstil, Zweifamilienhaus nahe Dr...   \n",
       "1      252 m² Grundstück  SELTENER GLÜCKSFALL! Vielseitig Talentierte Do...   \n",
       "2      400 m² Grundstück  großteils modern saniertes Einfamilienhaus in ...   \n",
       "3      313 m² Grundstück                Ein wirklich cooles Haus zum Leben!   \n",
       "4      820 m² Grundstück  Individuelles Einfamilienhaus in bester Lage v...   \n",
       "...                  ...                                                ...   \n",
       "9375   637 m² Grundstück  Einfamilienhaus (BVH) \"Am Brink\" in 17098 Frie...   \n",
       "9376  1074 m² Grundstück  einzigartiges lichtdurchflutetes Traumhaus der...   \n",
       "9377  1420 m² Grundstück  Wohnhaus mit separaten Bungalow ,Doppelgarage ...   \n",
       "9378   589 m² Grundstück  Super Wohnhaus für die ganze Familie , saniert...   \n",
       "9379   816 m² Grundstück  Reserviert - Haus in ruhiger Stadtrandlage von...   \n",
       "\n",
       "                                           seller      price  \n",
       "0                                Maklerbüro Haufe  244.000 €  \n",
       "1                                WIK24 Immobilien  490.000 €  \n",
       "2                                Maklerbüro Haufe  159.000 €  \n",
       "3                      Andreas Schmidt Immobilien  425.000 €  \n",
       "4     Gojowczyk Grundstücksverwaltung/ Immobilien  660.000 €  \n",
       "...                                           ...        ...  \n",
       "9375                             Linde-Immobilien  209.999 €  \n",
       "9376                  Massa Haus Vertriebspartner  419.000 €  \n",
       "9377                          Ruppiner-Immobilien  250.000 €  \n",
       "9378                          Ruppiner-Immobilien  349.900 €  \n",
       "9379        Knaute-Immobilien Inh.Susann Gutschke  265.000 €  \n",
       "\n",
       "[9380 rows x 7 columns]"
      ]
     },
     "execution_count": 481,
     "metadata": {},
     "output_type": "execute_result"
    }
   ],
   "source": [
    "houses = pd.DataFrame({\"location\":loc_flat_clean, #                      \n",
    "                       \"size\":area,\n",
    "                       \"rooms\":rooms,\n",
    "                       \"land_area\":land_flat_clean, #\n",
    "                       \"description\":descript_flat_clean,\n",
    "                       \"seller\":provider_flat_clean,\n",
    "                       \"price\":price,\n",
    "                      })\n",
    "houses"
   ]
  },
  {
   "cell_type": "code",
   "execution_count": 484,
   "id": "492effe6",
   "metadata": {},
   "outputs": [],
   "source": [
    "houses.to_csv('houses_1.csv', index=False)"
   ]
  }
 ],
 "metadata": {
  "kernelspec": {
   "display_name": "Python 3 (ipykernel)",
   "language": "python",
   "name": "python3"
  },
  "language_info": {
   "codemirror_mode": {
    "name": "ipython",
    "version": 3
   },
   "file_extension": ".py",
   "mimetype": "text/x-python",
   "name": "python",
   "nbconvert_exporter": "python",
   "pygments_lexer": "ipython3",
   "version": "3.9.13"
  }
 },
 "nbformat": 4,
 "nbformat_minor": 5
}
